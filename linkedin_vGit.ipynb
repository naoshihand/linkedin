{
 "cells": [
  {
   "cell_type": "code",
   "execution_count": 1,
   "id": "a7a74fb3-cbc7-404c-887d-ded393cfbb68",
   "metadata": {},
   "outputs": [],
   "source": [
    "from bs4 import BeautifulSoup as bs\n",
    "import re\n",
    "import requests\n",
    "from selenium import webdriver\n",
    "from time import sleep\n",
    "from selenium.webdriver.common.by import By\n",
    "from selenium.webdriver.common.action_chains import ActionChains\n",
    "from selenium.webdriver.common.keys import Keys\n",
    "from selenium.webdriver.chrome.service import Service\n",
    "from selenium.webdriver.support.wait import WebDriverWait\n",
    "from selenium.common.exceptions import NoSuchElementException\n",
    "import numpy as np"
   ]
  },
  {
   "cell_type": "code",
   "execution_count": 2,
   "id": "970c46af-f67f-4381-a222-2c4c9f922f30",
   "metadata": {},
   "outputs": [],
   "source": [
    "# Driver location\n",
    "s = Service('chromedriver.exe')\n",
    "driver = webdriver.Chrome(service = s)\n",
    "\n",
    "# credential info\n",
    "username = \"username\"\n",
    "pa_ss = \"pass\"\n",
    "\n",
    "# URLs\n",
    "login_url = 'https://www.linkedin.com/login?fromSignIn=true&trk=guest_homepage-basic_nav-header-signin'"
   ]
  },
  {
   "cell_type": "code",
   "execution_count": 3,
   "id": "62be099d-6748-405f-9a09-f3b03cedec22",
   "metadata": {},
   "outputs": [],
   "source": [
    "# Login\n",
    "driver.get(login_url)\n",
    "input_username = driver.find_element(By.ID, \"username\")\n",
    "input_password = driver.find_element(By.ID, \"password\")\n",
    "input_username.send_keys(username)\n",
    "input_password.send_keys(pa_ss)\n",
    "input_password.submit()\n",
    "sleep(1)"
   ]
  },
  {
   "cell_type": "code",
   "execution_count": 4,
   "id": "6b845e8c-b114-4ca8-819f-cb85d17f5b02",
   "metadata": {},
   "outputs": [],
   "source": [
    "### URL ###\n",
    "comp_url = 'desired url'\n",
    "driver.get(comp_url)"
   ]
  },
  {
   "cell_type": "code",
   "execution_count": 5,
   "id": "594088dd-e1a4-4d35-b621-5d87e57d8e3e",
   "metadata": {},
   "outputs": [],
   "source": [
    "btns = []\n",
    "close_btn = []\n",
    "next_btn = []"
   ]
  },
  {
   "cell_type": "code",
   "execution_count": 6,
   "id": "6a542284-f4e3-4fcc-859c-0d905555c198",
   "metadata": {},
   "outputs": [],
   "source": [
    "def close():\n",
    "    close_btn = driver.find_element(By.CSS_SELECTOR, \"[aria-label='Dismiss']\")\n",
    "    close_btn.click()"
   ]
  },
  {
   "cell_type": "code",
   "execution_count": 7,
   "id": "60a7a2fa-43bf-4163-a3e6-a0aef07925a1",
   "metadata": {},
   "outputs": [],
   "source": [
    "# Find button with \"Connect\" text and send connection request with message.\n",
    "def send_request(connect_btn):\n",
    "    target_fullname = driver.find_element(By.XPATH, \"//strong\").text.split(\" \")\n",
    "    target_name = target_fullname[0]\n",
    "    add_note = driver.find_element(By.CSS_SELECTOR, \"[aria-label='Add a note']\")\n",
    "    add_note.click()\n",
    "    message_box = driver.find_element(By.ID, \"custom-message\")\n",
    "    message_en = \"Hi,{}. message\".format(target_name)\n",
    "    message_box.send_keys(message_en)\n",
    "    sleep(1)\n",
    "    send_btn = driver.find_element(By.CSS_SELECTOR, \"[aria-label='Send now']\")\n",
    "    send_btn.click()\n",
    "\n",
    "def click_connect(connect_btn):\n",
    "    ActionChains(driver).move_to_element(connect_btn).click().perform()\n",
    "    try:\n",
    "        other = driver.find_element(By.CSS_SELECTOR, \"[aria-label='Other']\").click()\n",
    "        sleep(1)\n",
    "        connect = driver.find_element(By.CSS_SELECTOR, \"[aria-label='Connect']\").click()\n",
    "        send_request(connect_btn)\n",
    "    except:\n",
    "        try:\n",
    "            driver.find_element(By.LINK_TEXT, \"Learn why\")\n",
    "            close()\n",
    "            pass\n",
    "        except:\n",
    "            send_request(connect_btn)"
   ]
  },
  {
   "cell_type": "code",
   "execution_count": 8,
   "id": "d4ebbb16-4f2a-4862-8b37-39537e7cab83",
   "metadata": {},
   "outputs": [],
   "source": [
    "def next_page():\n",
    "    action = ActionChains(driver)\n",
    "    htmlelem = driver.find_element(By.TAG_NAME, \"html\")\n",
    "    htmlelem.send_keys(Keys.END)\n",
    "    sleep(2)\n",
    "    next_btn = driver.find_element(By.CSS_SELECTOR, \"[aria-label='Next']\")\n",
    "    action.move_to_element(next_btn).click().perform()"
   ]
  },
  {
   "cell_type": "code",
   "execution_count": null,
   "id": "7e0fa2f1-7f71-453d-99a0-7e0394454797",
   "metadata": {},
   "outputs": [
    {
     "name": "stdout",
     "output_type": "stream",
     "text": [
      "Error\n",
      "Error\n",
      "Error\n",
      "Error\n",
      "Error\n",
      "Error\n",
      "Error\n",
      "Error\n",
      "Error\n",
      "Error\n",
      "Error\n",
      "Error\n",
      "Error\n",
      "Error\n",
      "Error\n",
      "Error\n",
      "Error\n",
      "Error\n",
      "Error\n",
      "Error\n",
      "Error\n",
      "Error\n",
      "Error\n",
      "Error\n",
      "Error\n",
      "Error\n",
      "Error\n",
      "Error\n",
      "Error\n",
      "Error\n",
      "Error\n",
      "Error\n"
     ]
    }
   ],
   "source": [
    "for i in range(0, 100):\n",
    "    sleep(2)\n",
    "    try:\n",
    "        btns = driver.find_elements(By.CSS_SELECTOR, \"[aria-label$='to connect']\")\n",
    "        for btn in btns:\n",
    "            click_connect(btn)\n",
    "        next_page() \n",
    "    except NoSuchElementException:\n",
    "        print(\"Error\")"
   ]
  },
  {
   "cell_type": "code",
   "execution_count": null,
   "id": "941b53ce-ded7-431c-ac80-952998ed1723",
   "metadata": {},
   "outputs": [],
   "source": []
  },
  {
   "cell_type": "code",
   "execution_count": null,
   "id": "6365a737-d86c-413c-b8cc-5003e0e6de80",
   "metadata": {},
   "outputs": [],
   "source": []
  }
 ],
 "metadata": {
  "kernelspec": {
   "display_name": "Python 3.9.12 ('base')",
   "language": "python",
   "name": "python3"
  },
  "language_info": {
   "codemirror_mode": {
    "name": "ipython",
    "version": 3
   },
   "file_extension": ".py",
   "mimetype": "text/x-python",
   "name": "python",
   "nbconvert_exporter": "python",
   "pygments_lexer": "ipython3",
   "version": "3.9.12"
  },
  "vscode": {
   "interpreter": {
    "hash": "a2ab3825ac7005fb7b26f112e9c99ae62f464c629e30b0d534c3b931b6cbc3ff"
   }
  }
 },
 "nbformat": 4,
 "nbformat_minor": 5
}
